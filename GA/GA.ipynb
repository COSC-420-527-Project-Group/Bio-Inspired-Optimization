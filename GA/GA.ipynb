{
 "cells": [
  {
   "cell_type": "code",
   "execution_count": 2,
   "id": "ae6c8e99",
   "metadata": {},
   "outputs": [],
   "source": [
    "# using genetic algorithms to optimize simple machine learning models, such \n",
    "# as the random forest classifier, to implement brain tumor classification\n",
    "# This files does not implement tpot and only uses one specific version of a genetic algorithm\n",
    "# The dataset used for this model is images of brain tumors available on Kaggle\n",
    "# https://www.kaggle.com/datasets/masoudnickparvar/brain-tumor-mri-dataset\n",
    "# https://medium.com/@ela.markovic/feature-selection-using-genetic-algorithm-complete-beginner-friendly-guide-198496393728\n",
    "# https://www.geeksforgeeks.org/random-forest-for-image-classification-using-opencv/\n"
   ]
  },
  {
   "cell_type": "code",
   "execution_count": null,
   "id": "a9560991",
   "metadata": {},
   "outputs": [],
   "source": [
    "# import libraries\n",
    "import numpy as np \n",
    "import pandas as pd\n",
    "import matplotlib.pyplot as plt\n",
    "from sklearn.ensemble import RandomForestClassifier\n",
    "from sklearn.metrics import accuracy_score\n",
    "from sklearn.preprocessing import LabelEncoder\n",
    "import cv2\n",
    "import os"
   ]
  },
  {
   "cell_type": "code",
   "execution_count": 41,
   "id": "9c8d208b",
   "metadata": {},
   "outputs": [],
   "source": [
    "def load_data(directory, img_size=(64, 64)):\n",
    "    data = []\n",
    "    labels = []\n",
    "    class_names = []\n",
    "    for label in os.listdir(directory):\n",
    "        label_dir = os.path.join(directory, label)\n",
    "        if not os.path.isdir(label_dir):\n",
    "            continue\n",
    "        class_names.append(label)\n",
    "        for file in os.listdir(label_dir):\n",
    "            file_path = os.path.join(label_dir, file)\n",
    "            if file.lower().endswith(('.jpg', '.png', '.jpeg')):\n",
    "                img = cv2.imread(file_path, cv2.IMREAD_GRAYSCALE)\n",
    "                if img is not None:\n",
    "                    img = cv2.resize(img, img_size)\n",
    "                    img_flat = img.flatten()\n",
    "                    data.append(img_flat)\n",
    "                    labels.append(label)\n",
    "    return np.array(data), np.array(labels), class_names"
   ]
  },
  {
   "cell_type": "code",
   "execution_count": 44,
   "id": "c59dfccb",
   "metadata": {},
   "outputs": [],
   "source": [
    "# Paths to your folders\n",
    "base_dir = os.path.expanduser(\"brain_tumor_mri\") \n",
    "train_dir = os.path.join(base_dir, \"Training\")\n",
    "test_dir = os.path.join(base_dir, \"Testing\")"
   ]
  },
  {
   "cell_type": "code",
   "execution_count": 45,
   "id": "8e386995",
   "metadata": {},
   "outputs": [],
   "source": [
    "# Load images\n",
    "X_train, y_train, class_names = load_data(train_dir)\n",
    "X_test, y_test, _ = load_data(test_dir)\n"
   ]
  },
  {
   "cell_type": "code",
   "execution_count": 46,
   "id": "af5e2cf4",
   "metadata": {},
   "outputs": [],
   "source": [
    "# Encode labels numerically\n",
    "le = LabelEncoder()\n",
    "y_train_enc = le.fit_transform(y_train)\n",
    "y_test_enc = le.transform(y_test)"
   ]
  },
  {
   "cell_type": "code",
   "execution_count": 53,
   "id": "06316197",
   "metadata": {},
   "outputs": [],
   "source": [
    "# Hyperparameter ranges\n",
    "N_ESTIMATORS_MIN = 50\n",
    "N_ESTIMATORS_MAX = 200\n",
    "MAX_DEPTH_MIN = 1\n",
    "MAX_DEPTH_MAX = 50\n",
    "\n",
    "# Genetic Algorithm parameters\n",
    "POP_SIZE = 100\n",
    "GENERATIONS = 10\n",
    "MUTATION_RATE = 0.1\n",
    "CROSSOVER_RATE = 0.5\n",
    "TOURNAMENT_SIZES = 5"
   ]
  },
  {
   "cell_type": "code",
   "execution_count": 54,
   "id": "0400eff0",
   "metadata": {},
   "outputs": [],
   "source": [
    "# Initialize random population\n",
    "population = [ \n",
    "    [np.random.randint(N_ESTIMATORS_MIN, N_ESTIMATORS_MAX + 1), \n",
    "     np.random.randint(MAX_DEPTH_MIN, MAX_DEPTH_MAX + 1)] \n",
    "    for _ in range(POP_SIZE) \n",
    "]"
   ]
  },
  {
   "cell_type": "code",
   "execution_count": 55,
   "id": "60d6b647",
   "metadata": {},
   "outputs": [],
   "source": [
    "def eval_genome(genome):\n",
    "    n_estimators = int(genome[0])\n",
    "    max_depth = int(genome[1])\n",
    "    clf = RandomForestClassifier(n_estimators=n_estimators, max_depth=max_depth, random_state=42)\n",
    "    clf.fit(X_train, y_train_enc)\n",
    "    y_pred = clf.predict(X_test)\n",
    "    acc = accuracy_score(y_test_enc, y_pred)\n",
    "    return acc\n",
    "\n",
    "def tournament_selection(pop, fitnesses):\n",
    "    selected = []\n",
    "    for _ in range(POP_SIZE):\n",
    "        competitors_idx = np.random.choice(len(pop), TOURNAMENT_SIZES, replace=False)\n",
    "        best_idx = competitors_idx[np.argmax([fitnesses[i] for i in competitors_idx])]\n",
    "        selected.append(pop[best_idx].copy())\n",
    "    return selected\n",
    "\n",
    "def crossover(parent1, parent2):\n",
    "    if np.random.rand() < CROSSOVER_RATE:\n",
    "        point = np.random.randint(1, len(parent1))\n",
    "        child1 = parent1[:point] + parent2[point:]\n",
    "        child2 = parent2[:point] + parent1[point:]\n",
    "        return child1, child2\n",
    "    else:\n",
    "        return parent1.copy(), parent2.copy()\n",
    "\n",
    "def mutate(genome):\n",
    "    if np.random.rand() < MUTATION_RATE:\n",
    "        gene = np.random.choice([0,1])\n",
    "        if gene == 0:\n",
    "            genome[0] = np.random.randint(N_ESTIMATORS_MIN, N_ESTIMATORS_MAX + 1)\n",
    "        else:\n",
    "            genome[1] = np.random.randint(MAX_DEPTH_MIN, MAX_DEPTH_MAX + 1)\n",
    "    return genome"
   ]
  },
  {
   "cell_type": "code",
   "execution_count": 56,
   "id": "70a44100",
   "metadata": {},
   "outputs": [
    {
     "name": "stdout",
     "output_type": "stream",
     "text": [
      "Evaluating Generation 1\n",
      "Generation 0: Best Accuracy = 0.9382, Avg Accuracy = 0.8890\n",
      "Evaluating Generation 2\n",
      "Generation 1: Best Accuracy = 0.9390, Avg Accuracy = 0.9355\n",
      "Evaluating Generation 3\n",
      "Generation 2: Best Accuracy = 0.9390, Avg Accuracy = 0.9333\n",
      "Evaluating Generation 4\n",
      "Generation 3: Best Accuracy = 0.9390, Avg Accuracy = 0.9354\n",
      "Evaluating Generation 5\n",
      "Generation 4: Best Accuracy = 0.9390, Avg Accuracy = 0.9342\n",
      "Evaluating Generation 6\n",
      "Generation 5: Best Accuracy = 0.9397, Avg Accuracy = 0.9356\n",
      "Evaluating Generation 7\n",
      "Generation 6: Best Accuracy = 0.9397, Avg Accuracy = 0.9388\n",
      "Evaluating Generation 8\n",
      "Generation 7: Best Accuracy = 0.9397, Avg Accuracy = 0.9388\n",
      "Evaluating Generation 9\n",
      "Generation 8: Best Accuracy = 0.9397, Avg Accuracy = 0.9392\n",
      "Evaluating Generation 10\n",
      "Generation 9: Best Accuracy = 0.9397, Avg Accuracy = 0.9355\n"
     ]
    }
   ],
   "source": [
    "# GA main loop\n",
    "best_accuracies = []  # To track best accuracy over generations\n",
    "\n",
    "for gen in range(GENERATIONS):\n",
    "    print(f\"Evaluating Generation {gen + 1}\")\n",
    "    fitnesses = [eval_genome(g) for g in population]\n",
    "    best_accuracy = np.max(fitnesses)\n",
    "    avg_accuracy = np.mean(fitnesses)\n",
    "    best_accuracies.append(best_accuracy)\n",
    "    \n",
    "    print(f\"Generation {gen}: Best Accuracy = {best_accuracy:.4f}, Avg Accuracy = {avg_accuracy:.4f}\")\n",
    "\n",
    "    # Selection\n",
    "    selected_population = tournament_selection(population, fitnesses)\n",
    "\n",
    "    # Crossover and Mutation\n",
    "    next_population = []\n",
    "    for i in range(0, POP_SIZE, 2):\n",
    "        parent1 = selected_population[i]\n",
    "        parent2 = selected_population[(i+1) % POP_SIZE]\n",
    "        child1, child2 = crossover(parent1, parent2)\n",
    "        child1 = mutate(child1)\n",
    "        child2 = mutate(child2)\n",
    "        next_population.extend([child1, child2])\n",
    "\n",
    "    # Update the population\n",
    "    population = next_population[:POP_SIZE]"
   ]
  },
  {
   "cell_type": "code",
   "execution_count": null,
   "id": "9b4b45ed",
   "metadata": {},
   "outputs": [],
   "source": [
    "# Final evaluation\n",
    "final_fitnesses = [eval_genome(g) for g in population]\n",
    "best_idx = np.argmax(final_fitnesses)\n",
    "best_genome = population[best_idx]\n",
    "\n",
    "print(\"\\nBest hyperparameters found:\")\n",
    "print(f\"n_estimators: {best_genome[0]}, max_depth: {best_genome[1]}\")\n",
    "print(f\"Test accuracy: {final_fitnesses[best_idx]:.4f}\")\n",
    "\n",
    "# Train final model\n",
    "best_model = RandomForestClassifier(\n",
    "    n_estimators=int(best_genome[0]),\n",
    "    max_depth=int(best_genome[1]),\n",
    "    random_state=42\n",
    ")\n",
    "best_model.fit(X_train, y_train_enc)\n",
    "y_pred_final = best_model.predict(X_test)\n",
    "\n",
    "print(\"\\nFinal Model Evaluation:\")\n",
    "print(f\"Accuracy: {accuracy_score(y_test_enc, y_pred_final):.4f}\")\n",
    "\n",
    "# (Optional) Plotting Accuracy Progress Over Generations\n",
    "import matplotlib.pyplot as plt\n",
    "plt.plot(best_accuracies)\n",
    "plt.xlabel('Generation')\n",
    "plt.ylabel('Best Accuracy')\n",
    "plt.title('Best Accuracy Over Generations')\n",
    "plt.grid(True)\n",
    "plt.show()"
   ]
  },
  {
   "cell_type": "code",
   "execution_count": null,
   "id": "81d4aae4",
   "metadata": {},
   "outputs": [],
   "source": []
  },
  {
   "cell_type": "code",
   "execution_count": null,
   "id": "c2d2355b",
   "metadata": {},
   "outputs": [],
   "source": []
  }
 ],
 "metadata": {
  "kernelspec": {
   "display_name": "base",
   "language": "python",
   "name": "python3"
  },
  "language_info": {
   "codemirror_mode": {
    "name": "ipython",
    "version": 3
   },
   "file_extension": ".py",
   "mimetype": "text/x-python",
   "name": "python",
   "nbconvert_exporter": "python",
   "pygments_lexer": "ipython3",
   "version": "3.12.4"
  }
 },
 "nbformat": 4,
 "nbformat_minor": 5
}
