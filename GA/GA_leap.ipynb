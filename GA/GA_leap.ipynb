{
 "cells": [
  {
   "cell_type": "code",
   "execution_count": 9,
   "id": "7418d38d",
   "metadata": {},
   "outputs": [],
   "source": [
    "# using genetic algorithms to optimize simple machine learning models, such \n",
    "# as the random forest classifier, to implement brain tumor classification\n",
    "# using tpot runs thru many models to find the best one\n",
    "# The dataset used for this model is images of brain tumors available on Kaggle\n",
    "# https://www.kaggle.com/datasets/masoudnickparvar/brain-tumor-mri-dataset\n",
    "# https://www.geeksforgeeks.org/random-forest-for-image-classification-using-opencv/"
   ]
  },
  {
   "cell_type": "code",
   "execution_count": 10,
   "id": "83c968b2",
   "metadata": {},
   "outputs": [],
   "source": [
    "import numpy as np\n",
    "import matplotlib.pyplot as plt\n",
    "import csv\n",
    "from leap_ec import Individual, ops, util, Representation\n",
    "from leap_ec.algorithm import generational_ea\n",
    "from leap_ec.decoder import IdentityDecoder\n",
    "from leap_ec.problem import ScalarProblem\n",
    "from sklearn.ensemble import RandomForestClassifier\n",
    "from sklearn.metrics import accuracy_score\n",
    "from sklearn.model_selection import train_test_split\n",
    "import cv2\n",
    "import os\n",
    "from PIL import Image\n",
    "from sklearn.preprocessing import LabelEncoder\n",
    "from toolz import pipe\n",
    "import time "
   ]
  },
  {
   "cell_type": "code",
   "execution_count": 11,
   "id": "54c23f4c",
   "metadata": {},
   "outputs": [],
   "source": [
    "# --- Genetic Algorithm Parameters ---\n",
    "POP_SIZE = 2\n",
    "GENERATIONS = 10\n",
    "MUTATION_RATE = 0.1\n",
    "CROSSOVER_RATE = 0.5\n",
    "TOURNAMENT_SIZES = 5\n",
    "\n",
    "# --- Hyperparameter search grid ---\n",
    "n_estimators_options = list(range(50, 55, 5))\n",
    "max_depth_options = list(range(1, 6, 5))  \n",
    "\n",
    "# Load Dataset\n",
    "def load_data(folder_path):\n",
    "    X = []\n",
    "    y = []\n",
    "    for class_name in os.listdir(folder_path):\n",
    "        class_path = os.path.join(folder_path, class_name)\n",
    "        if os.path.isdir(class_path):\n",
    "            for file_name in os.listdir(class_path):\n",
    "                file_path = os.path.join(class_path, file_name)\n",
    "                try:\n",
    "                    img = Image.open(file_path).convert('L') \n",
    "                    img = img.resize((64, 64))  \n",
    "                    img_array = np.array(img).flatten()\n",
    "                    X.append(img_array)\n",
    "                    y.append(class_name)\n",
    "                except Exception as e:\n",
    "                    print(f\"Error loading {file_path}: {e}\")\n",
    "    return np.array(X), np.array(y)\n",
    "\n",
    "X_train, y_train = load_data('brain_tumor_mri/Training')\n",
    "X_test, y_test = load_data('brain_tumor_mri/Testing')\n",
    "\n",
    "# Encode Labels\n",
    "le = LabelEncoder()\n",
    "y_train_encoded = le.fit_transform(y_train)\n",
    "y_test_encoded = le.transform(y_test)"
   ]
  },
  {
   "cell_type": "code",
   "execution_count": 12,
   "id": "ab86d860",
   "metadata": {},
   "outputs": [],
   "source": [
    "fitness_cache = {}\n",
    "class RandomForestGAProblem(ScalarProblem):\n",
    "    def __init__(self):\n",
    "        super().__init__(maximize=True)\n",
    "\n",
    "    def evaluate(self, individual):\n",
    "        n_estimators = n_estimators_options[int(individual[0]) % len(n_estimators_options)]\n",
    "        max_depth = max_depth_options[int(individual[1]) % len(max_depth_options)]\n",
    "\n",
    "        key = (n_estimators, max_depth)\n",
    "        print(f\"Evaluating key: {key}\")\n",
    "        \n",
    "        if key in fitness_cache:\n",
    "            return fitness_cache[key]\n",
    "        \n",
    "        clf = RandomForestClassifier(n_estimators=n_estimators, max_depth=max_depth, random_state=42, n_jobs=1)\n",
    "        start = time.time()\n",
    "        clf.fit(X_train, y_train)\n",
    "        print(f\"Training time: {time.time() - start:.2f} seconds\")\n",
    "        \n",
    "        y_pred = clf.predict(X_test)\n",
    "        acc = accuracy_score(y_test, y_pred)\n",
    "\n",
    "        fitness_cache[key] = acc\n",
    "        return acc"
   ]
  },
  {
   "cell_type": "code",
   "execution_count": 13,
   "id": "6e35af40",
   "metadata": {},
   "outputs": [],
   "source": [
    "# --- Initialization function (systematic) ---\n",
    "genome_counter = 0\n",
    "def initialize_hyperparameters():\n",
    "    global genome_counter\n",
    "    i = genome_counter % len(n_estimators_options)\n",
    "    j = genome_counter % len(max_depth_options)\n",
    "    genome_counter += 1\n",
    "    return [i, j]\n",
    "\n",
    "# --- Custom crossover and mutation operators ---\n",
    "def uniform_crossover(population, p=0.5):\n",
    "    offspring = []\n",
    "    it = iter(population)\n",
    "    for parent1 in it:\n",
    "        try:\n",
    "            parent2 = next(it)\n",
    "        except StopIteration:\n",
    "            offspring.append(parent1)\n",
    "            break\n",
    "        child1_genome = []\n",
    "        child2_genome = []\n",
    "        for gene1, gene2 in zip(parent1.genome, parent2.genome):\n",
    "            if np.random.rand() < p:\n",
    "                child1_genome.append(gene2)\n",
    "                child2_genome.append(gene1)\n",
    "            else:\n",
    "                child1_genome.append(gene1)\n",
    "                child2_genome.append(gene2)\n",
    "        offspring.append(parent1.__class__(child1_genome))\n",
    "        offspring.append(parent2.__class__(child2_genome))\n",
    "    return offspring\n",
    "\n",
    "def mutate_integer(population, search_space, p=0.1):\n",
    "    for individual in population:\n",
    "        for i, s in enumerate(search_space):\n",
    "            if np.random.rand() < p:\n",
    "                individual.genome[i] = np.random.randint(0, len(s))\n",
    "        yield individual"
   ]
  },
  {
   "cell_type": "code",
   "execution_count": 14,
   "id": "964268da",
   "metadata": {},
   "outputs": [],
   "source": [
    "search_space = [range(len(n_estimators_options)), range(len(max_depth_options))]\n",
    "\n",
    "# --- Create initial population ---\n",
    "parents = Individual.create_population(\n",
    "    POP_SIZE,\n",
    "    initialize=initialize_hyperparameters,\n",
    "    decoder=IdentityDecoder(),\n",
    "    problem=RandomForestGAProblem()\n",
    ")"
   ]
  },
  {
   "cell_type": "code",
   "execution_count": 15,
   "id": "4147dd01",
   "metadata": {},
   "outputs": [
    {
     "name": "stdout",
     "output_type": "stream",
     "text": [
      "Evaluating key: (50, 1)\n",
      "Training time: 0.55 seconds\n",
      "Evaluating key: (50, 1)\n"
     ]
    }
   ],
   "source": [
    "parents = Individual.evaluate_population(parents)\n",
    "generation_counter = util.inc_generation()\n",
    "seen_combinations = set()\n",
    "best_accuracies = []\n",
    "log_rows = []"
   ]
  },
  {
   "cell_type": "code",
   "execution_count": 16,
   "id": "f4322d07",
   "metadata": {},
   "outputs": [
    {
     "name": "stdout",
     "output_type": "stream",
     "text": [
      "Working on generation 1\n"
     ]
    },
    {
     "ename": "KeyboardInterrupt",
     "evalue": "",
     "output_type": "error",
     "traceback": [
      "\u001b[0;31m---------------------------------------------------------------------------\u001b[0m",
      "\u001b[0;31mKeyboardInterrupt\u001b[0m                         Traceback (most recent call last)",
      "Cell \u001b[0;32mIn[16], line 3\u001b[0m\n\u001b[1;32m      1\u001b[0m \u001b[38;5;28;01mwhile\u001b[39;00m generation_counter\u001b[38;5;241m.\u001b[39mgeneration() \u001b[38;5;241m<\u001b[39m GENERATIONS:\n\u001b[1;32m      2\u001b[0m     \u001b[38;5;28mprint\u001b[39m(\u001b[38;5;124mf\u001b[39m\u001b[38;5;124m\"\u001b[39m\u001b[38;5;124mWorking on generation \u001b[39m\u001b[38;5;132;01m{\u001b[39;00mgeneration_counter\u001b[38;5;241m.\u001b[39mgeneration()\u001b[38;5;250m \u001b[39m\u001b[38;5;241m+\u001b[39m\u001b[38;5;250m \u001b[39m\u001b[38;5;241m1\u001b[39m\u001b[38;5;132;01m}\u001b[39;00m\u001b[38;5;124m\"\u001b[39m)\n\u001b[0;32m----> 3\u001b[0m     offspring \u001b[38;5;241m=\u001b[39m pipe(parents,\n\u001b[1;32m      4\u001b[0m                 \u001b[38;5;28;01mlambda\u001b[39;00m pop: ops\u001b[38;5;241m.\u001b[39mtournament_selection(pop, k\u001b[38;5;241m=\u001b[39mTOURNAMENT_SIZES),\n\u001b[1;32m      5\u001b[0m                 ops\u001b[38;5;241m.\u001b[39mclone,\n\u001b[1;32m      6\u001b[0m                 \u001b[38;5;28;01mlambda\u001b[39;00m pop: uniform_crossover(pop, p\u001b[38;5;241m=\u001b[39mCROSSOVER_RATE),\n\u001b[1;32m      7\u001b[0m                 \u001b[38;5;28;01mlambda\u001b[39;00m pop: mutate_integer(pop, search_space, p\u001b[38;5;241m=\u001b[39mMUTATION_RATE),\n\u001b[1;32m      8\u001b[0m                 ops\u001b[38;5;241m.\u001b[39mevaluate,\n\u001b[1;32m      9\u001b[0m                 ops\u001b[38;5;241m.\u001b[39mpool(size\u001b[38;5;241m=\u001b[39m\u001b[38;5;28mlen\u001b[39m(parents))\n\u001b[1;32m     10\u001b[0m     )\n\u001b[1;32m     11\u001b[0m     \u001b[38;5;28mprint\u001b[39m (\u001b[38;5;124mf\u001b[39m\u001b[38;5;124m\"\u001b[39m\u001b[38;5;124mdone piping generation \u001b[39m\u001b[38;5;132;01m{\u001b[39;00mgeneration_counter\u001b[38;5;241m.\u001b[39mgeneration()\u001b[38;5;250m \u001b[39m\u001b[38;5;241m+\u001b[39m\u001b[38;5;250m \u001b[39m\u001b[38;5;241m1\u001b[39m\u001b[38;5;132;01m}\u001b[39;00m\u001b[38;5;124m\"\u001b[39m)\n\u001b[1;32m     13\u001b[0m     best \u001b[38;5;241m=\u001b[39m \u001b[38;5;28mmax\u001b[39m(offspring, key\u001b[38;5;241m=\u001b[39m\u001b[38;5;28;01mlambda\u001b[39;00m ind: ind\u001b[38;5;241m.\u001b[39mfitness)\n",
      "File \u001b[0;32m/opt/anaconda3/lib/python3.12/site-packages/toolz/functoolz.py:628\u001b[0m, in \u001b[0;36mpipe\u001b[0;34m(data, *funcs)\u001b[0m\n\u001b[1;32m    608\u001b[0m \u001b[38;5;250m\u001b[39m\u001b[38;5;124;03m\"\"\" Pipe a value through a sequence of functions\u001b[39;00m\n\u001b[1;32m    609\u001b[0m \n\u001b[1;32m    610\u001b[0m \u001b[38;5;124;03mI.e. ``pipe(data, f, g, h)`` is equivalent to ``h(g(f(data)))``\u001b[39;00m\n\u001b[0;32m   (...)\u001b[0m\n\u001b[1;32m    625\u001b[0m \u001b[38;5;124;03m    thread_last\u001b[39;00m\n\u001b[1;32m    626\u001b[0m \u001b[38;5;124;03m\"\"\"\u001b[39;00m\n\u001b[1;32m    627\u001b[0m \u001b[38;5;28;01mfor\u001b[39;00m func \u001b[38;5;129;01min\u001b[39;00m funcs:\n\u001b[0;32m--> 628\u001b[0m     data \u001b[38;5;241m=\u001b[39m func(data)\n\u001b[1;32m    629\u001b[0m \u001b[38;5;28;01mreturn\u001b[39;00m data\n",
      "Cell \u001b[0;32mIn[16], line 6\u001b[0m, in \u001b[0;36m<lambda>\u001b[0;34m(pop)\u001b[0m\n\u001b[1;32m      1\u001b[0m \u001b[38;5;28;01mwhile\u001b[39;00m generation_counter\u001b[38;5;241m.\u001b[39mgeneration() \u001b[38;5;241m<\u001b[39m GENERATIONS:\n\u001b[1;32m      2\u001b[0m     \u001b[38;5;28mprint\u001b[39m(\u001b[38;5;124mf\u001b[39m\u001b[38;5;124m\"\u001b[39m\u001b[38;5;124mWorking on generation \u001b[39m\u001b[38;5;132;01m{\u001b[39;00mgeneration_counter\u001b[38;5;241m.\u001b[39mgeneration()\u001b[38;5;250m \u001b[39m\u001b[38;5;241m+\u001b[39m\u001b[38;5;250m \u001b[39m\u001b[38;5;241m1\u001b[39m\u001b[38;5;132;01m}\u001b[39;00m\u001b[38;5;124m\"\u001b[39m)\n\u001b[1;32m      3\u001b[0m     offspring \u001b[38;5;241m=\u001b[39m pipe(parents,\n\u001b[1;32m      4\u001b[0m                 \u001b[38;5;28;01mlambda\u001b[39;00m pop: ops\u001b[38;5;241m.\u001b[39mtournament_selection(pop, k\u001b[38;5;241m=\u001b[39mTOURNAMENT_SIZES),\n\u001b[1;32m      5\u001b[0m                 ops\u001b[38;5;241m.\u001b[39mclone,\n\u001b[0;32m----> 6\u001b[0m                 \u001b[38;5;28;01mlambda\u001b[39;00m pop: uniform_crossover(pop, p\u001b[38;5;241m=\u001b[39mCROSSOVER_RATE),\n\u001b[1;32m      7\u001b[0m                 \u001b[38;5;28;01mlambda\u001b[39;00m pop: mutate_integer(pop, search_space, p\u001b[38;5;241m=\u001b[39mMUTATION_RATE),\n\u001b[1;32m      8\u001b[0m                 ops\u001b[38;5;241m.\u001b[39mevaluate,\n\u001b[1;32m      9\u001b[0m                 ops\u001b[38;5;241m.\u001b[39mpool(size\u001b[38;5;241m=\u001b[39m\u001b[38;5;28mlen\u001b[39m(parents))\n\u001b[1;32m     10\u001b[0m     )\n\u001b[1;32m     11\u001b[0m     \u001b[38;5;28mprint\u001b[39m (\u001b[38;5;124mf\u001b[39m\u001b[38;5;124m\"\u001b[39m\u001b[38;5;124mdone piping generation \u001b[39m\u001b[38;5;132;01m{\u001b[39;00mgeneration_counter\u001b[38;5;241m.\u001b[39mgeneration()\u001b[38;5;250m \u001b[39m\u001b[38;5;241m+\u001b[39m\u001b[38;5;250m \u001b[39m\u001b[38;5;241m1\u001b[39m\u001b[38;5;132;01m}\u001b[39;00m\u001b[38;5;124m\"\u001b[39m)\n\u001b[1;32m     13\u001b[0m     best \u001b[38;5;241m=\u001b[39m \u001b[38;5;28mmax\u001b[39m(offspring, key\u001b[38;5;241m=\u001b[39m\u001b[38;5;28;01mlambda\u001b[39;00m ind: ind\u001b[38;5;241m.\u001b[39mfitness)\n",
      "Cell \u001b[0;32mIn[13], line 29\u001b[0m, in \u001b[0;36muniform_crossover\u001b[0;34m(population, p)\u001b[0m\n\u001b[1;32m     27\u001b[0m             child1_genome\u001b[38;5;241m.\u001b[39mappend(gene1)\n\u001b[1;32m     28\u001b[0m             child2_genome\u001b[38;5;241m.\u001b[39mappend(gene2)\n\u001b[0;32m---> 29\u001b[0m     offspring\u001b[38;5;241m.\u001b[39mappend(parent1\u001b[38;5;241m.\u001b[39m\u001b[38;5;18m__class__\u001b[39m(child1_genome))\n\u001b[1;32m     30\u001b[0m     offspring\u001b[38;5;241m.\u001b[39mappend(parent2\u001b[38;5;241m.\u001b[39m\u001b[38;5;18m__class__\u001b[39m(child2_genome))\n\u001b[1;32m     31\u001b[0m \u001b[38;5;28;01mreturn\u001b[39;00m offspring\n",
      "File \u001b[0;32m/opt/anaconda3/lib/python3.12/site-packages/leap_ec/individual.py:74\u001b[0m, in \u001b[0;36mIndividual.__init__\u001b[0;34m(self, genome, decoder, problem)\u001b[0m\n\u001b[1;32m     71\u001b[0m \u001b[38;5;28mself\u001b[39m\u001b[38;5;241m.\u001b[39mfitness \u001b[38;5;241m=\u001b[39m \u001b[38;5;28;01mNone\u001b[39;00m\n\u001b[1;32m     72\u001b[0m \u001b[38;5;28mself\u001b[39m\u001b[38;5;241m.\u001b[39m_phenome \u001b[38;5;241m=\u001b[39m \u001b[38;5;28;01mNone\u001b[39;00m\n\u001b[0;32m---> 74\u001b[0m \u001b[38;5;28mself\u001b[39m\u001b[38;5;241m.\u001b[39muuid \u001b[38;5;241m=\u001b[39m uuid\u001b[38;5;241m.\u001b[39muuid4() \u001b[38;5;66;03m# every individual gets a unique ID\u001b[39;00m\n\u001b[1;32m     75\u001b[0m \u001b[38;5;28mself\u001b[39m\u001b[38;5;241m.\u001b[39mparents \u001b[38;5;241m=\u001b[39m \u001b[38;5;28mset\u001b[39m()\n",
      "File \u001b[0;32m/opt/anaconda3/lib/python3.12/uuid.py:725\u001b[0m, in \u001b[0;36muuid4\u001b[0;34m()\u001b[0m\n\u001b[1;32m    723\u001b[0m \u001b[38;5;28;01mdef\u001b[39;00m \u001b[38;5;21muuid4\u001b[39m():\n\u001b[1;32m    724\u001b[0m \u001b[38;5;250m    \u001b[39m\u001b[38;5;124;03m\"\"\"Generate a random UUID.\"\"\"\u001b[39;00m\n\u001b[0;32m--> 725\u001b[0m     \u001b[38;5;28;01mreturn\u001b[39;00m UUID(\u001b[38;5;28mbytes\u001b[39m\u001b[38;5;241m=\u001b[39mos\u001b[38;5;241m.\u001b[39murandom(\u001b[38;5;241m16\u001b[39m), version\u001b[38;5;241m=\u001b[39m\u001b[38;5;241m4\u001b[39m)\n",
      "File \u001b[0;32m/opt/anaconda3/lib/python3.12/uuid.py:189\u001b[0m, in \u001b[0;36mUUID.__init__\u001b[0;34m(self, hex, bytes, bytes_le, fields, int, version, is_safe)\u001b[0m\n\u001b[1;32m    187\u001b[0m         \u001b[38;5;28;01mraise\u001b[39;00m \u001b[38;5;167;01mValueError\u001b[39;00m(\u001b[38;5;124m'\u001b[39m\u001b[38;5;124mbytes is not a 16-char string\u001b[39m\u001b[38;5;124m'\u001b[39m)\n\u001b[1;32m    188\u001b[0m     \u001b[38;5;28;01massert\u001b[39;00m \u001b[38;5;28misinstance\u001b[39m(\u001b[38;5;28mbytes\u001b[39m, bytes_), \u001b[38;5;28mrepr\u001b[39m(\u001b[38;5;28mbytes\u001b[39m)\n\u001b[0;32m--> 189\u001b[0m     \u001b[38;5;28mint\u001b[39m \u001b[38;5;241m=\u001b[39m int_\u001b[38;5;241m.\u001b[39mfrom_bytes(\u001b[38;5;28mbytes\u001b[39m)  \u001b[38;5;66;03m# big endian\u001b[39;00m\n\u001b[1;32m    190\u001b[0m \u001b[38;5;28;01mif\u001b[39;00m fields \u001b[38;5;129;01mis\u001b[39;00m \u001b[38;5;129;01mnot\u001b[39;00m \u001b[38;5;28;01mNone\u001b[39;00m:\n\u001b[1;32m    191\u001b[0m     \u001b[38;5;28;01mif\u001b[39;00m \u001b[38;5;28mlen\u001b[39m(fields) \u001b[38;5;241m!=\u001b[39m \u001b[38;5;241m6\u001b[39m:\n",
      "\u001b[0;31mKeyboardInterrupt\u001b[0m: "
     ]
    }
   ],
   "source": [
    "while generation_counter.generation() < GENERATIONS:\n",
    "    print(f\"Working on generation {generation_counter.generation() + 1}\")\n",
    "    offspring = pipe(parents,\n",
    "                lambda pop: ops.tournament_selection(pop, k=TOURNAMENT_SIZES),\n",
    "                ops.clone,\n",
    "                lambda pop: uniform_crossover(pop, p=CROSSOVER_RATE),\n",
    "                lambda pop: mutate_integer(pop, search_space, p=MUTATION_RATE),\n",
    "                ops.evaluate,\n",
    "                ops.pool(size=len(parents))\n",
    "    )\n",
    "    print (f\"done piping generation {generation_counter.generation() + 1}\")\n",
    "\n",
    "    best = max(offspring, key=lambda ind: ind.fitness)\n",
    "    avg_accuracy = np.mean([ind.fitness for ind in offspring])\n",
    "\n",
    "    best_n_estimators = n_estimators_options[int(best.genome[0]) % len(n_estimators_options)]\n",
    "    best_max_depth = max_depth_options[int(best.genome[1]) % len(max_depth_options)]\n",
    "\n",
    "    all_n_estimators = [n_estimators_options[int(ind.genome[0]) % len(n_estimators_options)] for ind in offspring]\n",
    "    all_max_depths = [max_depth_options[int(ind.genome[1]) % len(max_depth_options)] for ind in offspring]\n",
    "    avg_n_estimators = np.mean(all_n_estimators)\n",
    "    avg_max_depth = np.mean(all_max_depths)\n",
    "    error = 1 - best.fitness\n",
    "\n",
    "    for ind in offspring:\n",
    "        n_estimators = n_estimators_options[int(ind.genome[0]) % len(n_estimators_options)]\n",
    "        max_depth = max_depth_options[int(ind.genome[1]) % len(max_depth_options)]\n",
    "        seen_combinations.add((n_estimators, max_depth))\n",
    "\n",
    "    best_accuracies.append(best.fitness)\n",
    "\n",
    "    print(f\"Generation {generation_counter.generation()}:\\n\"\n",
    "          f\"    Best Accuracy: {best.fitness:.4f}\\n\"\n",
    "          f\"    Best Hyperparameters: n_estimators={best_n_estimators}, max_depth={best_max_depth}\\n\"\n",
    "          f\"    Unique hyperparameter combinations explored so far: {len(seen_combinations)} / 310\\n\")\n",
    "    \n",
    "    log_rows.append([\n",
    "        generation_counter.generation(),\n",
    "        best.fitness,\n",
    "        avg_accuracy,\n",
    "        best_n_estimators,\n",
    "        best_max_depth,\n",
    "        avg_n_estimators,\n",
    "        avg_max_depth,\n",
    "        error\n",
    "    ])\n",
    "\n",
    "    parents = offspring\n",
    "    generation_counter()"
   ]
  },
  {
   "cell_type": "code",
   "execution_count": null,
   "id": "9407002e",
   "metadata": {},
   "outputs": [],
   "source": [
    "# --- Plot Best Accuracy per Generation ---\n",
    "plt.plot(range(GENERATIONS), best_accuracies, marker='o')\n",
    "plt.title('Best Accuracy per Generation')\n",
    "plt.xlabel('Generation')\n",
    "plt.ylabel('Accuracy')\n",
    "plt.grid()\n",
    "plt.show()"
   ]
  },
  {
   "cell_type": "code",
   "execution_count": null,
   "id": "91c51e2a",
   "metadata": {},
   "outputs": [],
   "source": [
    "# --- Save results to CSV ---\n",
    "with open(\"RF_LEAP_GA_results.csv\", \"w\", newline=\"\") as f:\n",
    "    writer = csv.writer(f)\n",
    "    writer.writerow([\"Generation\", \"Best_Accuracy\", \"Average_Accuracy\", \"Best_n_estimators\", \"Best_max_depth\", \"Avg_n_estimators\", \"Avg_max_depth\", \"Error\"])\n",
    "    writer.writerows(log_rows)"
   ]
  }
 ],
 "metadata": {
  "kernelspec": {
   "display_name": "base",
   "language": "python",
   "name": "python3"
  },
  "language_info": {
   "codemirror_mode": {
    "name": "ipython",
    "version": 3
   },
   "file_extension": ".py",
   "mimetype": "text/x-python",
   "name": "python",
   "nbconvert_exporter": "python",
   "pygments_lexer": "ipython3",
   "version": "3.12.4"
  }
 },
 "nbformat": 4,
 "nbformat_minor": 5
}
